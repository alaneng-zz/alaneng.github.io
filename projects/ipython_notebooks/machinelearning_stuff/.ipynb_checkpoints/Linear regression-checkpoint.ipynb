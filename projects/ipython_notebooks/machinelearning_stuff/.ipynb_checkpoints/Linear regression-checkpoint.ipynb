{
 "metadata": {
  "name": "",
  "signature": "sha256:67233d7f84a99b9f5ddf3c6178198a14053e7a09442ef5ed82a9c66160cdb1c3"
 },
 "nbformat": 3,
 "nbformat_minor": 0,
 "worksheets": []
}
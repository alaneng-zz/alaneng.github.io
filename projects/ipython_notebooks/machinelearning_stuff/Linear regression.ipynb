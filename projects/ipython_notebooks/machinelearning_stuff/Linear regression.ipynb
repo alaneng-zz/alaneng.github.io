{
 "metadata": {
  "name": "",
  "signature": "sha256:18f58d9c04387b95a5e4cefcd52ecf7eee3707773d0ba59c9b6a231864ed29f2"
 },
 "nbformat": 3,
 "nbformat_minor": 0,
 "worksheets": [
  {
   "cells": [
    {
     "cell_type": "code",
     "collapsed": false,
     "input": [
      "import pandas as pd\n",
      "import matplotlib.pyplot as plt\n",
      "import seaborn as sns\n",
      "import numpy as np\n",
      "from sklearn.datasets import load_boston\n",
      "\n",
      "sns.set_style('whitegrid')\n",
      "%matplotlib inline"
     ],
     "language": "python",
     "metadata": {},
     "outputs": [],
     "prompt_number": 33
    },
    {
     "cell_type": "markdown",
     "metadata": {},
     "source": [
      "# Part 1"
     ]
    },
    {
     "cell_type": "code",
     "collapsed": false,
     "input": [
      "boston = load_boston()"
     ],
     "language": "python",
     "metadata": {},
     "outputs": [],
     "prompt_number": 5
    },
    {
     "cell_type": "code",
     "collapsed": false,
     "input": [
      "print boston.DESCR"
     ],
     "language": "python",
     "metadata": {},
     "outputs": [
      {
       "output_type": "stream",
       "stream": "stdout",
       "text": [
        "Boston House Prices dataset\n",
        "\n",
        "Notes\n",
        "------\n",
        "Data Set Characteristics:  \n",
        "\n",
        "    :Number of Instances: 506 \n",
        "\n",
        "    :Number of Attributes: 13 numeric/categorical predictive\n",
        "    \n",
        "    :Median Value (attribute 14) is usually the target\n",
        "\n",
        "    :Attribute Information (in order):\n",
        "        - CRIM     per capita crime rate by town\n",
        "        - ZN       proportion of residential land zoned for lots over 25,000 sq.ft.\n",
        "        - INDUS    proportion of non-retail business acres per town\n",
        "        - CHAS     Charles River dummy variable (= 1 if tract bounds river; 0 otherwise)\n",
        "        - NOX      nitric oxides concentration (parts per 10 million)\n",
        "        - RM       average number of rooms per dwelling\n",
        "        - AGE      proportion of owner-occupied units built prior to 1940\n",
        "        - DIS      weighted distances to five Boston employment centres\n",
        "        - RAD      index of accessibility to radial highways\n",
        "        - TAX      full-value property-tax rate per $10,000\n",
        "        - PTRATIO  pupil-teacher ratio by town\n",
        "        - B        1000(Bk - 0.63)^2 where Bk is the proportion of blacks by town\n",
        "        - LSTAT    % lower status of the population\n",
        "        - MEDV     Median value of owner-occupied homes in $1000's\n",
        "\n",
        "    :Missing Attribute Values: None\n",
        "\n",
        "    :Creator: Harrison, D. and Rubinfeld, D.L.\n",
        "\n",
        "This is a copy of UCI ML housing dataset.\n",
        "http://archive.ics.uci.edu/ml/datasets/Housing\n",
        "\n",
        "\n",
        "This dataset was taken from the StatLib library which is maintained at Carnegie Mellon University.\n",
        "\n",
        "The Boston house-price data of Harrison, D. and Rubinfeld, D.L. 'Hedonic\n",
        "prices and the demand for clean air', J. Environ. Economics & Management,\n",
        "vol.5, 81-102, 1978.   Used in Belsley, Kuh & Welsch, 'Regression diagnostics\n",
        "...', Wiley, 1980.   N.B. Various transformations are used in the table on\n",
        "pages 244-261 of the latter.\n",
        "\n",
        "The Boston house-price data has been used in many machine learning papers that address regression\n",
        "problems.   \n",
        "     \n",
        "**References**\n",
        "\n",
        "   - Belsley, Kuh & Welsch, 'Regression diagnostics: Identifying Influential Data and Sources of Collinearity', Wiley, 1980. 244-261.\n",
        "   - Quinlan,R. (1993). Combining Instance-Based and Model-Based Learning. In Proceedings on the Tenth International Conference of Machine Learning, 236-243, University of Massachusetts, Amherst. Morgan Kaufmann.\n",
        "   - many more! (see http://archive.ics.uci.edu/ml/datasets/Housing)\n",
        "\n"
       ]
      }
     ],
     "prompt_number": 9
    },
    {
     "cell_type": "code",
     "collapsed": false,
     "input": [
      "plt.hist(boston.target, bins=50)\n",
      "plt.xlabel('Prices in $1000s')\n",
      "plt.ylabel('Number of houses')"
     ],
     "language": "python",
     "metadata": {},
     "outputs": [
      {
       "metadata": {},
       "output_type": "pyout",
       "prompt_number": 15,
       "text": [
        "<matplotlib.text.Text at 0x10ebc0310>"
       ]
      },
      {
       "metadata": {},
       "output_type": "display_data",
       "png": "[encoded data removed]",
       "text": [
        "<matplotlib.figure.Figure at 0x10eb557d0>"
       ]
      }
     ],
     "prompt_number": 15
    },
    {
     "cell_type": "code",
     "collapsed": false,
     "input": [
      "# ,5 refers to RM (6th variable in dataset)\n",
      "plt.scatter(boston.data[:,5], boston.target)\n",
      "plt.ylabel('Prices in $1000s')\n",
      "plt.xlabel('Number of houses')"
     ],
     "language": "python",
     "metadata": {},
     "outputs": [
      {
       "metadata": {},
       "output_type": "pyout",
       "prompt_number": 21,
       "text": [
        "<matplotlib.text.Text at 0x10e3624d0>"
       ]
      },
      {
       "metadata": {},
       "output_type": "display_data",
       "png": "[encoded data removed]",
       "text": [
        "<matplotlib.figure.Figure at 0x10f067d10>"
       ]
      }
     ],
     "prompt_number": 21
    },
    {
     "cell_type": "code",
     "collapsed": false,
     "input": [
      "boston_df = pd.DataFrame(boston.data)\n",
      "boston_df.columns = boston.feature_names[:13]"
     ],
     "language": "python",
     "metadata": {},
     "outputs": [],
     "prompt_number": 27
    },
    {
     "cell_type": "code",
     "collapsed": false,
     "input": [
      "boston_df.head()"
     ],
     "language": "python",
     "metadata": {},
     "outputs": [
      {
       "html": [
        "<div style=\"max-width:1500px;overflow:auto;\">\n",
        "<table border=\"1\" class=\"dataframe\">\n",
        "  <thead>\n",
        "    <tr style=\"text-align: right;\">\n",
        "      <th></th>\n",
        "      <th>CRIM</th>\n",
        "      <th>ZN</th>\n",
        "      <th>INDUS</th>\n",
        "      <th>CHAS</th>\n",
        "      <th>NOX</th>\n",
        "      <th>RM</th>\n",
        "      <th>AGE</th>\n",
        "      <th>DIS</th>\n",
        "      <th>RAD</th>\n",
        "      <th>TAX</th>\n",
        "      <th>PTRATIO</th>\n",
        "      <th>B</th>\n",
        "      <th>LSTAT</th>\n",
        "    </tr>\n",
        "  </thead>\n",
        "  <tbody>\n",
        "    <tr>\n",
        "      <th>0</th>\n",
        "      <td>0.00632</td>\n",
        "      <td>18</td>\n",
        "      <td>2.31</td>\n",
        "      <td>0</td>\n",
        "      <td>0.538</td>\n",
        "      <td>6.575</td>\n",
        "      <td>65.2</td>\n",
        "      <td>4.0900</td>\n",
        "      <td>1</td>\n",
        "      <td>296</td>\n",
        "      <td>15.3</td>\n",
        "      <td>396.90</td>\n",
        "      <td>4.98</td>\n",
        "    </tr>\n",
        "    <tr>\n",
        "      <th>1</th>\n",
        "      <td>0.02731</td>\n",
        "      <td>0</td>\n",
        "      <td>7.07</td>\n",
        "      <td>0</td>\n",
        "      <td>0.469</td>\n",
        "      <td>6.421</td>\n",
        "      <td>78.9</td>\n",
        "      <td>4.9671</td>\n",
        "      <td>2</td>\n",
        "      <td>242</td>\n",
        "      <td>17.8</td>\n",
        "      <td>396.90</td>\n",
        "      <td>9.14</td>\n",
        "    </tr>\n",
        "    <tr>\n",
        "      <th>2</th>\n",
        "      <td>0.02729</td>\n",
        "      <td>0</td>\n",
        "      <td>7.07</td>\n",
        "      <td>0</td>\n",
        "      <td>0.469</td>\n",
        "      <td>7.185</td>\n",
        "      <td>61.1</td>\n",
        "      <td>4.9671</td>\n",
        "      <td>2</td>\n",
        "      <td>242</td>\n",
        "      <td>17.8</td>\n",
        "      <td>392.83</td>\n",
        "      <td>4.03</td>\n",
        "    </tr>\n",
        "    <tr>\n",
        "      <th>3</th>\n",
        "      <td>0.03237</td>\n",
        "      <td>0</td>\n",
        "      <td>2.18</td>\n",
        "      <td>0</td>\n",
        "      <td>0.458</td>\n",
        "      <td>6.998</td>\n",
        "      <td>45.8</td>\n",
        "      <td>6.0622</td>\n",
        "      <td>3</td>\n",
        "      <td>222</td>\n",
        "      <td>18.7</td>\n",
        "      <td>394.63</td>\n",
        "      <td>2.94</td>\n",
        "    </tr>\n",
        "    <tr>\n",
        "      <th>4</th>\n",
        "      <td>0.06905</td>\n",
        "      <td>0</td>\n",
        "      <td>2.18</td>\n",
        "      <td>0</td>\n",
        "      <td>0.458</td>\n",
        "      <td>7.147</td>\n",
        "      <td>54.2</td>\n",
        "      <td>6.0622</td>\n",
        "      <td>3</td>\n",
        "      <td>222</td>\n",
        "      <td>18.7</td>\n",
        "      <td>396.90</td>\n",
        "      <td>5.33</td>\n",
        "    </tr>\n",
        "  </tbody>\n",
        "</table>\n",
        "</div>"
       ],
       "metadata": {},
       "output_type": "pyout",
       "prompt_number": 28,
       "text": [
        "      CRIM  ZN  INDUS  CHAS    NOX     RM   AGE     DIS  RAD  TAX  PTRATIO  \\\n",
        "0  0.00632  18   2.31     0  0.538  6.575  65.2  4.0900    1  296     15.3   \n",
        "1  0.02731   0   7.07     0  0.469  6.421  78.9  4.9671    2  242     17.8   \n",
        "2  0.02729   0   7.07     0  0.469  7.185  61.1  4.9671    2  242     17.8   \n",
        "3  0.03237   0   2.18     0  0.458  6.998  45.8  6.0622    3  222     18.7   \n",
        "4  0.06905   0   2.18     0  0.458  7.147  54.2  6.0622    3  222     18.7   \n",
        "\n",
        "        B  LSTAT  \n",
        "0  396.90   4.98  \n",
        "1  396.90   9.14  \n",
        "2  392.83   4.03  \n",
        "3  394.63   2.94  \n",
        "4  396.90   5.33  "
       ]
      }
     ],
     "prompt_number": 28
    },
    {
     "cell_type": "code",
     "collapsed": false,
     "input": [
      "boston_df['Price'] = boston.target"
     ],
     "language": "python",
     "metadata": {},
     "outputs": [],
     "prompt_number": 29
    },
    {
     "cell_type": "code",
     "collapsed": false,
     "input": [
      "boston_df.head()"
     ],
     "language": "python",
     "metadata": {},
     "outputs": [
      {
       "html": [
        "<div style=\"max-width:1500px;overflow:auto;\">\n",
        "<table border=\"1\" class=\"dataframe\">\n",
        "  <thead>\n",
        "    <tr style=\"text-align: right;\">\n",
        "      <th></th>\n",
        "      <th>CRIM</th>\n",
        "      <th>ZN</th>\n",
        "      <th>INDUS</th>\n",
        "      <th>CHAS</th>\n",
        "      <th>NOX</th>\n",
        "      <th>RM</th>\n",
        "      <th>AGE</th>\n",
        "      <th>DIS</th>\n",
        "      <th>RAD</th>\n",
        "      <th>TAX</th>\n",
        "      <th>PTRATIO</th>\n",
        "      <th>B</th>\n",
        "      <th>LSTAT</th>\n",
        "      <th>Price</th>\n",
        "    </tr>\n",
        "  </thead>\n",
        "  <tbody>\n",
        "    <tr>\n",
        "      <th>0</th>\n",
        "      <td>0.00632</td>\n",
        "      <td>18</td>\n",
        "      <td>2.31</td>\n",
        "      <td>0</td>\n",
        "      <td>0.538</td>\n",
        "      <td>6.575</td>\n",
        "      <td>65.2</td>\n",
        "      <td>4.0900</td>\n",
        "      <td>1</td>\n",
        "      <td>296</td>\n",
        "      <td>15.3</td>\n",
        "      <td>396.90</td>\n",
        "      <td>4.98</td>\n",
        "      <td>24.0</td>\n",
        "    </tr>\n",
        "    <tr>\n",
        "      <th>1</th>\n",
        "      <td>0.02731</td>\n",
        "      <td>0</td>\n",
        "      <td>7.07</td>\n",
        "      <td>0</td>\n",
        "      <td>0.469</td>\n",
        "      <td>6.421</td>\n",
        "      <td>78.9</td>\n",
        "      <td>4.9671</td>\n",
        "      <td>2</td>\n",
        "      <td>242</td>\n",
        "      <td>17.8</td>\n",
        "      <td>396.90</td>\n",
        "      <td>9.14</td>\n",
        "      <td>21.6</td>\n",
        "    </tr>\n",
        "    <tr>\n",
        "      <th>2</th>\n",
        "      <td>0.02729</td>\n",
        "      <td>0</td>\n",
        "      <td>7.07</td>\n",
        "      <td>0</td>\n",
        "      <td>0.469</td>\n",
        "      <td>7.185</td>\n",
        "      <td>61.1</td>\n",
        "      <td>4.9671</td>\n",
        "      <td>2</td>\n",
        "      <td>242</td>\n",
        "      <td>17.8</td>\n",
        "      <td>392.83</td>\n",
        "      <td>4.03</td>\n",
        "      <td>34.7</td>\n",
        "    </tr>\n",
        "    <tr>\n",
        "      <th>3</th>\n",
        "      <td>0.03237</td>\n",
        "      <td>0</td>\n",
        "      <td>2.18</td>\n",
        "      <td>0</td>\n",
        "      <td>0.458</td>\n",
        "      <td>6.998</td>\n",
        "      <td>45.8</td>\n",
        "      <td>6.0622</td>\n",
        "      <td>3</td>\n",
        "      <td>222</td>\n",
        "      <td>18.7</td>\n",
        "      <td>394.63</td>\n",
        "      <td>2.94</td>\n",
        "      <td>33.4</td>\n",
        "    </tr>\n",
        "    <tr>\n",
        "      <th>4</th>\n",
        "      <td>0.06905</td>\n",
        "      <td>0</td>\n",
        "      <td>2.18</td>\n",
        "      <td>0</td>\n",
        "      <td>0.458</td>\n",
        "      <td>7.147</td>\n",
        "      <td>54.2</td>\n",
        "      <td>6.0622</td>\n",
        "      <td>3</td>\n",
        "      <td>222</td>\n",
        "      <td>18.7</td>\n",
        "      <td>396.90</td>\n",
        "      <td>5.33</td>\n",
        "      <td>36.2</td>\n",
        "    </tr>\n",
        "  </tbody>\n",
        "</table>\n",
        "</div>"
       ],
       "metadata": {},
       "output_type": "pyout",
       "prompt_number": 30,
       "text": [
        "      CRIM  ZN  INDUS  CHAS    NOX     RM   AGE     DIS  RAD  TAX  PTRATIO  \\\n",
        "0  0.00632  18   2.31     0  0.538  6.575  65.2  4.0900    1  296     15.3   \n",
        "1  0.02731   0   7.07     0  0.469  6.421  78.9  4.9671    2  242     17.8   \n",
        "2  0.02729   0   7.07     0  0.469  7.185  61.1  4.9671    2  242     17.8   \n",
        "3  0.03237   0   2.18     0  0.458  6.998  45.8  6.0622    3  222     18.7   \n",
        "4  0.06905   0   2.18     0  0.458  7.147  54.2  6.0622    3  222     18.7   \n",
        "\n",
        "        B  LSTAT  Price  \n",
        "0  396.90   4.98   24.0  \n",
        "1  396.90   9.14   21.6  \n",
        "2  392.83   4.03   34.7  \n",
        "3  394.63   2.94   33.4  \n",
        "4  396.90   5.33   36.2  "
       ]
      }
     ],
     "prompt_number": 30
    },
    {
     "cell_type": "code",
     "collapsed": false,
     "input": [
      "sns.lmplot('RM', 'Price', data=boston_df)"
     ],
     "language": "python",
     "metadata": {},
     "outputs": [
      {
       "metadata": {},
       "output_type": "pyout",
       "prompt_number": 34,
       "text": [
        "<seaborn.axisgrid.FacetGrid at 0x10f437490>"
       ]
      },
      {
       "metadata": {},
       "output_type": "display_data",
       "png": "[encoded data removed]",
       "text": [
        "<matplotlib.figure.Figure at 0x10f437250>"
       ]
      }
     ],
     "prompt_number": 34
    },
    {
     "cell_type": "markdown",
     "metadata": {},
     "source": [
      "# Part 2"
     ]
    },
    {
     "cell_type": "code",
     "collapsed": false,
     "input": [
      "boston_df.head()"
     ],
     "language": "python",
     "metadata": {},
     "outputs": [
      {
       "html": [
        "<div style=\"max-width:1500px;overflow:auto;\">\n",
        "<table border=\"1\" class=\"dataframe\">\n",
        "  <thead>\n",
        "    <tr style=\"text-align: right;\">\n",
        "      <th></th>\n",
        "      <th>CRIM</th>\n",
        "      <th>ZN</th>\n",
        "      <th>INDUS</th>\n",
        "      <th>CHAS</th>\n",
        "      <th>NOX</th>\n",
        "      <th>RM</th>\n",
        "      <th>AGE</th>\n",
        "      <th>DIS</th>\n",
        "      <th>RAD</th>\n",
        "      <th>TAX</th>\n",
        "      <th>PTRATIO</th>\n",
        "      <th>B</th>\n",
        "      <th>LSTAT</th>\n",
        "      <th>Price</th>\n",
        "    </tr>\n",
        "  </thead>\n",
        "  <tbody>\n",
        "    <tr>\n",
        "      <th>0</th>\n",
        "      <td>0.00632</td>\n",
        "      <td>18</td>\n",
        "      <td>2.31</td>\n",
        "      <td>0</td>\n",
        "      <td>0.538</td>\n",
        "      <td>6.575</td>\n",
        "      <td>65.2</td>\n",
        "      <td>4.0900</td>\n",
        "      <td>1</td>\n",
        "      <td>296</td>\n",
        "      <td>15.3</td>\n",
        "      <td>396.90</td>\n",
        "      <td>4.98</td>\n",
        "      <td>24.0</td>\n",
        "    </tr>\n",
        "    <tr>\n",
        "      <th>1</th>\n",
        "      <td>0.02731</td>\n",
        "      <td>0</td>\n",
        "      <td>7.07</td>\n",
        "      <td>0</td>\n",
        "      <td>0.469</td>\n",
        "      <td>6.421</td>\n",
        "      <td>78.9</td>\n",
        "      <td>4.9671</td>\n",
        "      <td>2</td>\n",
        "      <td>242</td>\n",
        "      <td>17.8</td>\n",
        "      <td>396.90</td>\n",
        "      <td>9.14</td>\n",
        "      <td>21.6</td>\n",
        "    </tr>\n",
        "    <tr>\n",
        "      <th>2</th>\n",
        "      <td>0.02729</td>\n",
        "      <td>0</td>\n",
        "      <td>7.07</td>\n",
        "      <td>0</td>\n",
        "      <td>0.469</td>\n",
        "      <td>7.185</td>\n",
        "      <td>61.1</td>\n",
        "      <td>4.9671</td>\n",
        "      <td>2</td>\n",
        "      <td>242</td>\n",
        "      <td>17.8</td>\n",
        "      <td>392.83</td>\n",
        "      <td>4.03</td>\n",
        "      <td>34.7</td>\n",
        "    </tr>\n",
        "    <tr>\n",
        "      <th>3</th>\n",
        "      <td>0.03237</td>\n",
        "      <td>0</td>\n",
        "      <td>2.18</td>\n",
        "      <td>0</td>\n",
        "      <td>0.458</td>\n",
        "      <td>6.998</td>\n",
        "      <td>45.8</td>\n",
        "      <td>6.0622</td>\n",
        "      <td>3</td>\n",
        "      <td>222</td>\n",
        "      <td>18.7</td>\n",
        "      <td>394.63</td>\n",
        "      <td>2.94</td>\n",
        "      <td>33.4</td>\n",
        "    </tr>\n",
        "    <tr>\n",
        "      <th>4</th>\n",
        "      <td>0.06905</td>\n",
        "      <td>0</td>\n",
        "      <td>2.18</td>\n",
        "      <td>0</td>\n",
        "      <td>0.458</td>\n",
        "      <td>7.147</td>\n",
        "      <td>54.2</td>\n",
        "      <td>6.0622</td>\n",
        "      <td>3</td>\n",
        "      <td>222</td>\n",
        "      <td>18.7</td>\n",
        "      <td>396.90</td>\n",
        "      <td>5.33</td>\n",
        "      <td>36.2</td>\n",
        "    </tr>\n",
        "  </tbody>\n",
        "</table>\n",
        "</div>"
       ],
       "metadata": {},
       "output_type": "pyout",
       "prompt_number": 35,
       "text": [
        "      CRIM  ZN  INDUS  CHAS    NOX     RM   AGE     DIS  RAD  TAX  PTRATIO  \\\n",
        "0  0.00632  18   2.31     0  0.538  6.575  65.2  4.0900    1  296     15.3   \n",
        "1  0.02731   0   7.07     0  0.469  6.421  78.9  4.9671    2  242     17.8   \n",
        "2  0.02729   0   7.07     0  0.469  7.185  61.1  4.9671    2  242     17.8   \n",
        "3  0.03237   0   2.18     0  0.458  6.998  45.8  6.0622    3  222     18.7   \n",
        "4  0.06905   0   2.18     0  0.458  7.147  54.2  6.0622    3  222     18.7   \n",
        "\n",
        "        B  LSTAT  Price  \n",
        "0  396.90   4.98   24.0  \n",
        "1  396.90   9.14   21.6  \n",
        "2  392.83   4.03   34.7  \n",
        "3  394.63   2.94   33.4  \n",
        "4  396.90   5.33   36.2  "
       ]
      }
     ],
     "prompt_number": 35
    },
    {
     "cell_type": "code",
     "collapsed": false,
     "input": [
      "x = boston_df['RM']\n",
      "x.shape"
     ],
     "language": "python",
     "metadata": {},
     "outputs": [
      {
       "metadata": {},
       "output_type": "pyout",
       "prompt_number": 42,
       "text": [
        "(506,)"
       ]
      }
     ],
     "prompt_number": 42
    },
    {
     "cell_type": "code",
     "collapsed": false,
     "input": [
      "x.head()"
     ],
     "language": "python",
     "metadata": {},
     "outputs": [
      {
       "metadata": {},
       "output_type": "pyout",
       "prompt_number": 38,
       "text": [
        "0    6.575\n",
        "1    6.421\n",
        "2    7.185\n",
        "3    6.998\n",
        "4    7.147\n",
        "Name: RM, dtype: float64"
       ]
      }
     ],
     "prompt_number": 38
    },
    {
     "cell_type": "code",
     "collapsed": false,
     "input": [
      "x = np.vstack(boston_df['RM'])\n",
      "x.shape"
     ],
     "language": "python",
     "metadata": {},
     "outputs": [
      {
       "metadata": {},
       "output_type": "pyout",
       "prompt_number": 64,
       "text": [
        "(506, 1)"
       ]
      }
     ],
     "prompt_number": 64
    },
    {
     "cell_type": "code",
     "collapsed": false,
     "input": [
      "y = boston_df['Price']"
     ],
     "language": "python",
     "metadata": {},
     "outputs": [],
     "prompt_number": 49
    },
    {
     "cell_type": "code",
     "collapsed": false,
     "input": [
      "x = np.array([[value, 1] for value in x])"
     ],
     "language": "python",
     "metadata": {},
     "outputs": [],
     "prompt_number": 65
    },
    {
     "cell_type": "code",
     "collapsed": false,
     "input": [
      "x"
     ],
     "language": "python",
     "metadata": {},
     "outputs": [
      {
       "metadata": {},
       "output_type": "pyout",
       "prompt_number": 66,
       "text": [
        "array([[array([ 6.575]), 1],\n",
        "       [array([ 6.421]), 1],\n",
        "       [array([ 7.185]), 1],\n",
        "       ..., \n",
        "       [array([ 6.976]), 1],\n",
        "       [array([ 6.794]), 1],\n",
        "       [array([ 6.03]), 1]], dtype=object)"
       ]
      }
     ],
     "prompt_number": 66
    },
    {
     "cell_type": "code",
     "collapsed": false,
     "input": [
      "m, b = np.linalg.lstsq(x,y)[0]"
     ],
     "language": "python",
     "metadata": {},
     "outputs": [],
     "prompt_number": 50
    },
    {
     "cell_type": "code",
     "collapsed": false,
     "input": [
      "plt.plot(boston_df['RM'], boston_df['Price'], 'o')\n",
      "x = boston_df['RM']\n",
      "plt.plot(x, m*x + b, 'red', label='best fit line')"
     ],
     "language": "python",
     "metadata": {},
     "outputs": [
      {
       "metadata": {},
       "output_type": "pyout",
       "prompt_number": 60,
       "text": [
        "[<matplotlib.lines.Line2D at 0x10fed1710>]"
       ]
      },
      {
       "metadata": {},
       "output_type": "display_data",
       "png": "[encoded data removed]",
       "text": [
        "<matplotlib.figure.Figure at 0x10fe53910>"
       ]
      }
     ],
     "prompt_number": 60
    },
    {
     "cell_type": "markdown",
     "metadata": {},
     "source": [
      "# Part 3"
     ]
    },
    {
     "cell_type": "code",
     "collapsed": false,
     "input": [
      "result = np.linalg.lstsq(x,y)"
     ],
     "language": "python",
     "metadata": {},
     "outputs": [],
     "prompt_number": 68
    },
    {
     "cell_type": "code",
     "collapsed": false,
     "input": [
      "result"
     ],
     "language": "python",
     "metadata": {},
     "outputs": [
      {
       "metadata": {},
       "output_type": "pyout",
       "prompt_number": 69,
       "text": [
        "(array([  9.10210898, -34.67062078]),\n",
        " array([ 22061.87919621]),\n",
        " 2,\n",
        " array([ 143.99484122,    2.46656609]))"
       ]
      }
     ],
     "prompt_number": 69
    },
    {
     "cell_type": "code",
     "collapsed": false,
     "input": [
      "error_total = result[1]\n",
      "error_total"
     ],
     "language": "python",
     "metadata": {},
     "outputs": [
      {
       "metadata": {},
       "output_type": "pyout",
       "prompt_number": 71,
       "text": [
        "array([ 22061.87919621])"
       ]
      }
     ],
     "prompt_number": 71
    },
    {
     "cell_type": "code",
     "collapsed": false,
     "input": [
      "rmse = np.sqrt(error_total/len(x))\n",
      "print 'the rmse is: %.2f' %rmse"
     ],
     "language": "python",
     "metadata": {},
     "outputs": [
      {
       "output_type": "stream",
       "stream": "stdout",
       "text": [
        "the rmse is: 6.60\n"
       ]
      }
     ],
     "prompt_number": 74
    },
    {
     "cell_type": "code",
     "collapsed": false,
     "input": [
      "import sklearn\n",
      "from sklearn.linear_model import LinearRegression"
     ],
     "language": "python",
     "metadata": {},
     "outputs": [],
     "prompt_number": 75
    },
    {
     "cell_type": "code",
     "collapsed": false,
     "input": [
      "lreg = LinearRegression()"
     ],
     "language": "python",
     "metadata": {},
     "outputs": [],
     "prompt_number": 84
    },
    {
     "cell_type": "code",
     "collapsed": false,
     "input": [
      "x_multi = boston_df.drop('Price', 1)\n",
      "x_multi.head()"
     ],
     "language": "python",
     "metadata": {},
     "outputs": [
      {
       "html": [
        "<div style=\"max-width:1500px;overflow:auto;\">\n",
        "<table border=\"1\" class=\"dataframe\">\n",
        "  <thead>\n",
        "    <tr style=\"text-align: right;\">\n",
        "      <th></th>\n",
        "      <th>CRIM</th>\n",
        "      <th>ZN</th>\n",
        "      <th>INDUS</th>\n",
        "      <th>CHAS</th>\n",
        "      <th>NOX</th>\n",
        "      <th>RM</th>\n",
        "      <th>AGE</th>\n",
        "      <th>DIS</th>\n",
        "      <th>RAD</th>\n",
        "      <th>TAX</th>\n",
        "      <th>PTRATIO</th>\n",
        "      <th>B</th>\n",
        "      <th>LSTAT</th>\n",
        "    </tr>\n",
        "  </thead>\n",
        "  <tbody>\n",
        "    <tr>\n",
        "      <th>0</th>\n",
        "      <td>0.00632</td>\n",
        "      <td>18</td>\n",
        "      <td>2.31</td>\n",
        "      <td>0</td>\n",
        "      <td>0.538</td>\n",
        "      <td>6.575</td>\n",
        "      <td>65.2</td>\n",
        "      <td>4.0900</td>\n",
        "      <td>1</td>\n",
        "      <td>296</td>\n",
        "      <td>15.3</td>\n",
        "      <td>396.90</td>\n",
        "      <td>4.98</td>\n",
        "    </tr>\n",
        "    <tr>\n",
        "      <th>1</th>\n",
        "      <td>0.02731</td>\n",
        "      <td>0</td>\n",
        "      <td>7.07</td>\n",
        "      <td>0</td>\n",
        "      <td>0.469</td>\n",
        "      <td>6.421</td>\n",
        "      <td>78.9</td>\n",
        "      <td>4.9671</td>\n",
        "      <td>2</td>\n",
        "      <td>242</td>\n",
        "      <td>17.8</td>\n",
        "      <td>396.90</td>\n",
        "      <td>9.14</td>\n",
        "    </tr>\n",
        "    <tr>\n",
        "      <th>2</th>\n",
        "      <td>0.02729</td>\n",
        "      <td>0</td>\n",
        "      <td>7.07</td>\n",
        "      <td>0</td>\n",
        "      <td>0.469</td>\n",
        "      <td>7.185</td>\n",
        "      <td>61.1</td>\n",
        "      <td>4.9671</td>\n",
        "      <td>2</td>\n",
        "      <td>242</td>\n",
        "      <td>17.8</td>\n",
        "      <td>392.83</td>\n",
        "      <td>4.03</td>\n",
        "    </tr>\n",
        "    <tr>\n",
        "      <th>3</th>\n",
        "      <td>0.03237</td>\n",
        "      <td>0</td>\n",
        "      <td>2.18</td>\n",
        "      <td>0</td>\n",
        "      <td>0.458</td>\n",
        "      <td>6.998</td>\n",
        "      <td>45.8</td>\n",
        "      <td>6.0622</td>\n",
        "      <td>3</td>\n",
        "      <td>222</td>\n",
        "      <td>18.7</td>\n",
        "      <td>394.63</td>\n",
        "      <td>2.94</td>\n",
        "    </tr>\n",
        "    <tr>\n",
        "      <th>4</th>\n",
        "      <td>0.06905</td>\n",
        "      <td>0</td>\n",
        "      <td>2.18</td>\n",
        "      <td>0</td>\n",
        "      <td>0.458</td>\n",
        "      <td>7.147</td>\n",
        "      <td>54.2</td>\n",
        "      <td>6.0622</td>\n",
        "      <td>3</td>\n",
        "      <td>222</td>\n",
        "      <td>18.7</td>\n",
        "      <td>396.90</td>\n",
        "      <td>5.33</td>\n",
        "    </tr>\n",
        "  </tbody>\n",
        "</table>\n",
        "</div>"
       ],
       "metadata": {},
       "output_type": "pyout",
       "prompt_number": 79,
       "text": [
        "      CRIM  ZN  INDUS  CHAS    NOX     RM   AGE     DIS  RAD  TAX  PTRATIO  \\\n",
        "0  0.00632  18   2.31     0  0.538  6.575  65.2  4.0900    1  296     15.3   \n",
        "1  0.02731   0   7.07     0  0.469  6.421  78.9  4.9671    2  242     17.8   \n",
        "2  0.02729   0   7.07     0  0.469  7.185  61.1  4.9671    2  242     17.8   \n",
        "3  0.03237   0   2.18     0  0.458  6.998  45.8  6.0622    3  222     18.7   \n",
        "4  0.06905   0   2.18     0  0.458  7.147  54.2  6.0622    3  222     18.7   \n",
        "\n",
        "        B  LSTAT  \n",
        "0  396.90   4.98  \n",
        "1  396.90   9.14  \n",
        "2  392.83   4.03  \n",
        "3  394.63   2.94  \n",
        "4  396.90   5.33  "
       ]
      }
     ],
     "prompt_number": 79
    },
    {
     "cell_type": "code",
     "collapsed": false,
     "input": [
      "y_target = boston_df['Price']"
     ],
     "language": "python",
     "metadata": {},
     "outputs": [],
     "prompt_number": 80
    },
    {
     "cell_type": "code",
     "collapsed": false,
     "input": [
      "lreg = lreg.fit(x_multi, y_target)"
     ],
     "language": "python",
     "metadata": {},
     "outputs": [],
     "prompt_number": 91
    },
    {
     "cell_type": "code",
     "collapsed": false,
     "input": [
      "print 'The estimated intercept coefficient is {coeff}'.format(coeff=lreg.intercept_)\n",
      "print 'The number of coefficients used was {num}'.format(num=len(lreg.coef_))"
     ],
     "language": "python",
     "metadata": {},
     "outputs": [
      {
       "output_type": "stream",
       "stream": "stdout",
       "text": [
        "The estimated intercept coefficient is 36.4911032804\n",
        "The number of coefficients used was 13\n"
       ]
      }
     ],
     "prompt_number": 94
    },
    {
     "cell_type": "code",
     "collapsed": false,
     "input": [],
     "language": "python",
     "metadata": {},
     "outputs": []
    },
    {
     "cell_type": "code",
     "collapsed": false,
     "input": [],
     "language": "python",
     "metadata": {},
     "outputs": []
    },
    {
     "cell_type": "code",
     "collapsed": false,
     "input": [],
     "language": "python",
     "metadata": {},
     "outputs": []
    },
    {
     "cell_type": "code",
     "collapsed": false,
     "input": [],
     "language": "python",
     "metadata": {},
     "outputs": []
    },
    {
     "cell_type": "code",
     "collapsed": false,
     "input": [],
     "language": "python",
     "metadata": {},
     "outputs": []
    }
   ],
   "metadata": {}
  }
 ]
}
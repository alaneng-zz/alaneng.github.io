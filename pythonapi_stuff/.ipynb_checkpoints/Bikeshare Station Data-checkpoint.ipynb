{
 "metadata": {
  "name": "",
  "signature": "sha256:8a6bc96fbe76a89caf4afc09dcc62d4a15d10aa45240e5c4e7ba3bd56db66634"
 },
 "nbformat": 3,
 "nbformat_minor": 0,
 "worksheets": [
  {
   "cells": [
    {
     "cell_type": "code",
     "collapsed": false,
     "input": [
      "import requests\n",
      "%matplotlib inline"
     ],
     "language": "python",
     "metadata": {},
     "outputs": [],
     "prompt_number": 1
    },
    {
     "cell_type": "code",
     "collapsed": false,
     "input": [
      "'''\n",
      "availableDocks\n",
      "totalDocks\n",
      "city\n",
      "altitude\n",
      "stAddress2\n",
      "longitude\n",
      "lastCommunicationTime\n",
      "postalCode\n",
      "statusValue\n",
      "testStation\n",
      "stAddress1\n",
      "stationName\n",
      "landMark\n",
      "latitude\n",
      "statusKey\n",
      "availableBikes\n",
      "id\n",
      "location\n",
      "'''"
     ],
     "language": "python",
     "metadata": {},
     "outputs": [],
     "prompt_number": 43
    },
    {
     "cell_type": "code",
     "collapsed": false,
     "input": [
      "json = requests.get('http://www.bayareabikeshare.com/stations/json')\n",
      "data = json.json()['stationBeanList']\n",
      "\n",
      "def sf():\n",
      "    sf_stations = filter(lambda x: x['city'] == 'San Francisco', data)\n",
      "    for i in sf_stations:\n",
      "        stationName = i['stationName']\n",
      "        longitude = i['longitude']\n",
      "        latitude = i['latitude']\n",
      "        print 'Station Name: {stationName}, Longitude: {longitude}, Latitude: {latitude}\\n'.format(stationName=stationName,\n",
      "                                                                                                 longitude=longitude,\n",
      "                                                                                                 latitude=latitude)"
     ],
     "language": "python",
     "metadata": {},
     "outputs": [],
     "prompt_number": 83
    },
    {
     "cell_type": "code",
     "collapsed": false,
     "input": [
      "sf()"
     ],
     "language": "python",
     "metadata": {},
     "outputs": [
      {
       "output_type": "stream",
       "stream": "stdout",
       "text": [
        "Station Name: Powell Street BART, Longitude: -122.408433, Latitude: 37.783871\n",
        "\n",
        "Station Name: Clay at Battery, Longitude: -122.39997, Latitude: 37.795001\n",
        "\n",
        "Station Name: Davis at Jackson, Longitude: -122.398436, Latitude: 37.79728\n",
        "\n",
        "Station Name: Commercial at Montgomery, Longitude: -122.402923, Latitude: 37.794231\n",
        "\n",
        "Station Name: Washington at Kearny, Longitude: -122.404767, Latitude: 37.795425\n",
        "\n",
        "Station Name: Post at Kearny, Longitude: -122.403452, Latitude: 37.788975\n",
        "\n",
        "Station Name: Embarcadero at Vallejo, Longitude: -122.398525, Latitude: 37.799953\n",
        "\n",
        "Station Name: Spear at Folsom, Longitude: -122.390373, Latitude: 37.789656\n",
        "\n",
        "Station Name: Harry Bridges Plaza (Ferry Building), Longitude: -122.394203, Latitude: 37.795392\n",
        "\n",
        "Station Name: Embarcadero at Folsom, Longitude: -122.391034, Latitude: 37.791464\n",
        "\n",
        "Station Name: Embarcadero at Bryant, Longitude: -122.388013, Latitude: 37.787152\n",
        "\n",
        "Station Name: Temporary Transbay Terminal (Howard at Beale), Longitude: -122.394643, Latitude: 37.789756\n",
        "\n",
        "Station Name: Beale at Market, Longitude: -122.397086, Latitude: 37.792251\n",
        "\n",
        "Station Name: 5th at Howard, Longitude: -122.405127, Latitude: 37.781752\n",
        "\n",
        "Station Name: San Francisco City Hall, Longitude: -122.418235, Latitude: 37.77865\n",
        "\n",
        "Station Name: Golden Gate at Polk, Longitude: -122.418603, Latitude: 37.781332\n",
        "\n",
        "Station Name: Embarcadero at Sansome, Longitude: -122.403234, Latitude: 37.80477\n",
        "\n",
        "Station Name: 2nd at Townsend, Longitude: -122.390288, Latitude: 37.780526\n",
        "\n",
        "Station Name: 2nd at Folsom, Longitude: -122.39644, Latitude: 37.785366\n",
        "\n",
        "Station Name: Howard at 2nd, Longitude: -122.398108, Latitude: 37.786978\n",
        "\n",
        "Station Name: 2nd at South Park, Longitude: -122.392738, Latitude: 37.782259\n",
        "\n",
        "Station Name: Townsend at 7th, Longitude: -122.402717, Latitude: 37.771058\n",
        "\n",
        "Station Name: South Van Ness at Market, Longitude: -122.418954, Latitude: 37.774814\n",
        "\n",
        "Station Name: Market at 10th, Longitude: -122.417385, Latitude: 37.776619\n",
        "\n",
        "Station Name: Yerba Buena Center of the Arts (3rd @ Howard), Longitude: -122.401014, Latitude: 37.784878\n",
        "\n",
        "Station Name: San Francisco Caltrain 2 (330 Townsend), Longitude: -122.39547, Latitude: 37.7766\n",
        "\n",
        "Station Name: San Francisco Caltrain (Townsend at 4th), Longitude: -122.39528, Latitude: 37.776599\n",
        "\n",
        "Station Name: Powell at Post (Union Square), Longitude: -122.408499, Latitude: 37.788446\n",
        "\n",
        "Station Name: Civic Center BART (7th at Market), Longitude: -122.411748, Latitude: 37.781039\n",
        "\n",
        "Station Name: Grant Avenue at Columbus Avenue, Longitude: -122.407245, Latitude: 37.798522\n",
        "\n",
        "Station Name: Steuart at Market, Longitude: -122.394434, Latitude: 37.794139\n",
        "\n",
        "Station Name: Mechanics Plaza (Market at Battery), Longitude: -122.399051, Latitude: 37.7913\n",
        "\n",
        "Station Name: Market at 4th, Longitude: -122.404966, Latitude: 37.786305\n",
        "\n",
        "Station Name: Market at Sansome, Longitude: -122.400811, Latitude: 37.789625\n",
        "\n",
        "Station Name: Broadway St at Battery St, Longitude: -122.400862, Latitude: 37.798541\n",
        "\n"
       ]
      }
     ],
     "prompt_number": 84
    },
    {
     "cell_type": "code",
     "collapsed": false,
     "input": [
      "from mpl_toolkits.basemap import Basemap\n",
      "import matplotlib.pyplot as plt\n",
      "\n",
      "map = Basemap(projection='ortho', \n",
      "              lat_0=0, lon_0=0)\n",
      "\n",
      "map.drawmapboundary(fill_color='aqua')\n",
      "map.fillcontinents(color='coral',lake_color='aqua')\n",
      "map.drawcoastlines()\n",
      "\n",
      "lons = [0, 10, -20, -20]\n",
      "lats = [0, -10, 40, -20]\n",
      "\n",
      "x, y = map(lons, lats)\n",
      "\n",
      "map.scatter(x, y, marker='D',color='m')\n",
      "\n",
      "plt.show()"
     ],
     "language": "python",
     "metadata": {},
     "outputs": []
    },
    {
     "cell_type": "code",
     "collapsed": false,
     "input": [],
     "language": "python",
     "metadata": {},
     "outputs": []
    },
    {
     "cell_type": "code",
     "collapsed": false,
     "input": [],
     "language": "python",
     "metadata": {},
     "outputs": []
    },
    {
     "cell_type": "code",
     "collapsed": false,
     "input": [],
     "language": "python",
     "metadata": {},
     "outputs": []
    }
   ],
   "metadata": {}
  }
 ]
}